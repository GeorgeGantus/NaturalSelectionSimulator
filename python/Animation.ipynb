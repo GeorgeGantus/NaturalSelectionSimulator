{
 "cells": [
  {
   "cell_type": "code",
   "execution_count": 1,
   "id": "d5df3463",
   "metadata": {},
   "outputs": [],
   "source": [
    "import turtle\n",
    "import time"
   ]
  },
  {
   "cell_type": "code",
   "execution_count": 2,
   "id": "7dd92a98",
   "metadata": {},
   "outputs": [],
   "source": [
    "def change_position(player,x,y):\n",
    "    true_x = 30*x - 120;\n",
    "    true_y = -30*y + 120;\n",
    "    player.goto(true_x,true_y)"
   ]
  },
  {
   "cell_type": "code",
   "execution_count": 3,
   "id": "c939b631",
   "metadata": {},
   "outputs": [],
   "source": [
    "def draw_map():\n",
    "    pen = turtle.Turtle()\n",
    "    pen2 = turtle.Turtle()\n",
    "    y0 = 105;\n",
    "    for i in range(9):\n",
    "        pen.penup()\n",
    "        pen2.penup()\n",
    "        pen.goto(-135, 105 -30*i)\n",
    "        pen2.goto(-105+30*i, 135)\n",
    "        pen.pendown()\n",
    "        pen2.pendown()\n",
    "        pen.goto(165,105 -30*i)\n",
    "        pen2.goto(-105+30*i, -165)\n",
    "    pen.hideturtle()\n",
    "    pen2.hideturtle()\n",
    "    wn.update()"
   ]
  },
  {
   "cell_type": "code",
   "execution_count": null,
   "id": "a43faf61",
   "metadata": {
    "scrolled": true
   },
   "outputs": [],
   "source": [
    "wn = turtle.Screen()\n",
    "wn.title(\"animation demo\")\n",
    "wn.bgcolor(\"white\")\n",
    "t = [turtle.Turtle() for i in range(10)]\n",
    "draw_map()\n",
    "for i in range(10):\n",
    "    t[i].shape(\"square\")\n",
    "    t[i].color(\"green\")\n",
    "    t[i].penup()\n",
    "    change_position(t[i],i,i)\n",
    "    wn.update\n",
    "\n",
    "change_position(t[0],1,0)\n",
    "time.sleep(0.25)\n",
    "change_position(t[0],2,0)\n",
    "time.sleep(0.25)\n",
    "change_position(t[0],3,0)\n",
    "time.sleep(0.25)\n",
    "change_position(t[0],4,0)\n",
    "time.sleep(0.25)\n",
    "    \n",
    "wn.mainloop()"
   ]
  },
  {
   "cell_type": "code",
   "execution_count": null,
   "id": "8bf0908d",
   "metadata": {},
   "outputs": [],
   "source": []
  }
 ],
 "metadata": {
  "kernelspec": {
   "display_name": "Python 3",
   "language": "python",
   "name": "python3"
  },
  "language_info": {
   "codemirror_mode": {
    "name": "ipython",
    "version": 3
   },
   "file_extension": ".py",
   "mimetype": "text/x-python",
   "name": "python",
   "nbconvert_exporter": "python",
   "pygments_lexer": "ipython3",
   "version": "3.8.8"
  }
 },
 "nbformat": 4,
 "nbformat_minor": 5
}
