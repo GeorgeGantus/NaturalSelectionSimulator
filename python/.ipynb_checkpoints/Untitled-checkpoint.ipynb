{
 "cells": [
  {
   "cell_type": "code",
   "execution_count": 21,
   "id": "f98d8ee0",
   "metadata": {},
   "outputs": [],
   "source": [
    "import numpy as np\n",
    "import pandas as pd"
   ]
  },
  {
   "cell_type": "code",
   "execution_count": 22,
   "id": "45535039",
   "metadata": {},
   "outputs": [
    {
     "data": {
      "text/plain": [
       "['10 0.2 20 0.05 10 2',\n",
       " '0.5 1',\n",
       " '0.482846 2',\n",
       " '0.488436 3',\n",
       " '0.488436 3',\n",
       " '0.490556 6',\n",
       " '0.488079 7',\n",
       " '0.487861 9',\n",
       " '0.492385 7',\n",
       " '0.47561 5',\n",
       " '0.472474 7',\n",
       " '0']"
      ]
     },
     "execution_count": 22,
     "metadata": {},
     "output_type": "execute_result"
    }
   ],
   "source": [
    "file = open('../data.txt')\n",
    "aux = file.read().strip().split(\"\\n\")\n",
    "aux"
   ]
  },
  {
   "cell_type": "code",
   "execution_count": 38,
   "id": "a5dfecea",
   "metadata": {},
   "outputs": [
    {
     "data": {
      "text/plain": [
       "[[10.0, 0.2, 20.0, 0.05, 10.0, 2.0],\n",
       " [0.5, 1.0],\n",
       " [0.482846, 2.0],\n",
       " [0.488436, 3.0],\n",
       " [0.488436, 3.0],\n",
       " [0.490556, 6.0],\n",
       " [0.488079, 7.0],\n",
       " [0.487861, 9.0],\n",
       " [0.492385, 7.0],\n",
       " [0.47561, 5.0],\n",
       " [0.472474, 7.0],\n",
       " [0.0]]"
      ]
     },
     "execution_count": 38,
     "metadata": {},
     "output_type": "execute_result"
    }
   ],
   "source": [
    "data = [[float(y) for y in x.split(\" \")] for x in aux]\n",
    "data"
   ]
  },
  {
   "cell_type": "code",
   "execution_count": 42,
   "id": "7626c41b",
   "metadata": {},
   "outputs": [
    {
     "data": {
      "text/plain": [
       "[[0.5, 1.0],\n",
       " [0.482846, 2.0],\n",
       " [0.488436, 3.0],\n",
       " [0.488436, 3.0],\n",
       " [0.490556, 6.0],\n",
       " [0.488079, 7.0],\n",
       " [0.487861, 9.0],\n",
       " [0.492385, 7.0],\n",
       " [0.47561, 5.0],\n",
       " [0.472474, 7.0]]"
      ]
     },
     "execution_count": 42,
     "metadata": {},
     "output_type": "execute_result"
    }
   ],
   "source": [
    "population = [x[0] for x in data[1:-1]]"
   ]
  },
  {
   "cell_type": "code",
   "execution_count": null,
   "id": "6504f73e",
   "metadata": {},
   "outputs": [],
   "source": []
  }
 ],
 "metadata": {
  "kernelspec": {
   "display_name": "Python 3",
   "language": "python",
   "name": "python3"
  },
  "language_info": {
   "codemirror_mode": {
    "name": "ipython",
    "version": 3
   },
   "file_extension": ".py",
   "mimetype": "text/x-python",
   "name": "python",
   "nbconvert_exporter": "python",
   "pygments_lexer": "ipython3",
   "version": "3.8.8"
  }
 },
 "nbformat": 4,
 "nbformat_minor": 5
}
