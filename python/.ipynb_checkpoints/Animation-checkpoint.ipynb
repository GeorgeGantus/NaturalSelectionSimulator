{
 "cells": [
  {
   "cell_type": "code",
   "execution_count": 1,
   "id": "d5df3463",
   "metadata": {},
   "outputs": [],
   "source": [
    "import turtle\n",
    "import time\n",
    "import numpy as np"
   ]
  },
  {
   "cell_type": "code",
   "execution_count": 2,
   "id": "ca80d669",
   "metadata": {},
   "outputs": [],
   "source": [
    "file = open('../moves.txt')\n",
    "aux = file.read().strip().split(\"\\n\")\n",
    "data = [[int(y) for y in x.split(\" \")] for x in aux]"
   ]
  },
  {
   "cell_type": "code",
   "execution_count": 3,
   "id": "2fe5df24",
   "metadata": {},
   "outputs": [],
   "source": [
    "file = open('../food.txt')\n",
    "auxFood = file.read().strip().split(\"\\n\")\n",
    "food = [[int(y) for y in x.strip().split(\" \")] for x in auxFood]"
   ]
  },
  {
   "cell_type": "code",
   "execution_count": 4,
   "id": "ecd3a7dd",
   "metadata": {},
   "outputs": [],
   "source": [
    "food = np.array(food).reshape((10,10,10))"
   ]
  },
  {
   "cell_type": "code",
   "execution_count": 5,
   "id": "7f1dcb52",
   "metadata": {},
   "outputs": [],
   "source": [
    "def change_position(player,p):\n",
    "    time.sleep(0.4)\n",
    "    true_x = 30*p[0] - 120;\n",
    "    true_y = -30*p[1] + 120;\n",
    "    player.goto(true_x,true_y)\n",
    "    \n",
    "def change_food_position(player,p):\n",
    "    true_x = 30*p[0] - 120;\n",
    "    true_y = -30*p[1] + 120;\n",
    "    player.goto(true_x,true_y)"
   ]
  },
  {
   "cell_type": "code",
   "execution_count": 6,
   "id": "2cbda63f",
   "metadata": {},
   "outputs": [],
   "source": [
    "def eat(p,food,foodDraw):\n",
    "    y,x = p\n",
    "    if food[x,y] != 0:\n",
    "        food[x,y] = food[x,y] - 1\n",
    "        if food[x,y] == 0:\n",
    "            print('aqui')\n",
    "            foodDraw[x][y].hideturtle()\n",
    "        "
   ]
  },
  {
   "cell_type": "code",
   "execution_count": 7,
   "id": "42054926",
   "metadata": {},
   "outputs": [],
   "source": [
    "def draw_map():\n",
    "    pen = turtle.Turtle()\n",
    "    pen2 = turtle.Turtle()\n",
    "    pen.speed(0)\n",
    "    pen2.speed(0)\n",
    "    y0 = 105;\n",
    "    for i in range(9):\n",
    "        pen.penup()\n",
    "        pen2.penup()\n",
    "        pen.goto(-135, 105 -30*i)\n",
    "        pen2.goto(-105+30*i, 135)\n",
    "        pen.pendown()\n",
    "        pen2.pendown()\n",
    "        pen.goto(165,105 -30*i)\n",
    "        pen2.goto(-105+30*i, -165)\n",
    "    pen.hideturtle()\n",
    "    pen2.hideturtle()\n",
    "    wn.update()"
   ]
  },
  {
   "cell_type": "code",
   "execution_count": 8,
   "id": "c75b4322",
   "metadata": {},
   "outputs": [],
   "source": [
    "def draw_food(food):\n",
    "    foodDraw = [['' for i in range(10)] for j in range(10)]\n",
    "    for i in range(10):\n",
    "        for j in range(10):\n",
    "            if food[i][j] != 0:\n",
    "                t = turtle.Turtle()\n",
    "                t.color('red')\n",
    "                t.shape('circle')\n",
    "                t.penup()\n",
    "                t.speed(0)\n",
    "                change_food_position(t,[j,i])\n",
    "                foodDraw[i][j] = t\n",
    "    return foodDraw"
   ]
  },
  {
   "cell_type": "code",
   "execution_count": 9,
   "id": "9d4d435d",
   "metadata": {},
   "outputs": [],
   "source": [
    "def drawGenerationMoves(i, food, foodDraw):\n",
    "    popsize = data[i][0]\n",
    "    p = []\n",
    "    i += 1\n",
    "    for k in range(popsize):\n",
    "        t = turtle.Turtle()\n",
    "        t.shape(\"square\")\n",
    "        t.color(\"green\")\n",
    "        t.penup()\n",
    "        change_position(t,data[i])\n",
    "        p.append(t)\n",
    "        i += 1\n",
    "    for k in range(20):\n",
    "        for j in range(popsize):\n",
    "            change_position(p[j],data[i])\n",
    "            eat(data[i],food, foodDraw)\n",
    "            i += 1\n",
    "    time.sleep(1)\n",
    "    for k in range(popsize):\n",
    "        p[k].hideturtle()\n",
    "    return i"
   ]
  },
  {
   "cell_type": "code",
   "execution_count": 10,
   "id": "a43faf61",
   "metadata": {
    "scrolled": true
   },
   "outputs": [
    {
     "name": "stdout",
     "output_type": "stream",
     "text": [
      "eating at [1, 8]\n",
      "eating at [3, 4]\n",
      "aqui\n",
      "eating at [1, 7]\n",
      "eating at [4, 4]\n",
      "eating at [2, 7]\n",
      "eating at [4, 5]\n",
      "eating at [2, 6]\n",
      "eating at [4, 6]\n",
      "eating at [2, 7]\n",
      "eating at [5, 6]\n",
      "eating at [2, 6]\n",
      "eating at [5, 5]\n",
      "eating at [2, 5]\n",
      "eating at [5, 4]\n",
      "aqui\n",
      "eating at [3, 5]\n",
      "eating at [5, 3]\n",
      "eating at [2, 5]\n",
      "eating at [5, 4]\n",
      "eating at [1, 5]\n",
      "eating at [5, 3]\n",
      "eating at [1, 4]\n",
      "eating at [4, 3]\n",
      "aqui\n",
      "eating at [0, 4]\n",
      "aqui\n",
      "eating at [4, 4]\n",
      "aqui\n",
      "eating at [0, 3]\n",
      "eating at [4, 3]\n",
      "eating at [0, 2]\n",
      "eating at [5, 3]\n",
      "eating at [0, 3]\n",
      "eating at [4, 3]\n",
      "eating at [0, 3]\n",
      "eating at [4, 2]\n",
      "eating at [0, 4]\n",
      "eating at [5, 2]\n",
      "aqui\n",
      "eating at [0, 5]\n",
      "eating at [6, 2]\n",
      "eating at [0, 4]\n",
      "eating at [6, 3]\n",
      "aqui\n",
      "eating at [0, 3]\n",
      "eating at [6, 2]\n",
      "[-1, -1, 0] 43 teste\n"
     ]
    }
   ],
   "source": [
    "wn = turtle.Screen()\n",
    "wn.title(\"animation demo\")\n",
    "wn.bgcolor(\"white\")\n",
    "draw_map()\n",
    "#fd = draw_food(food[0])\n",
    "#eat([0,6],food[0],fd)\n",
    "i = 0\n",
    "g=0\n",
    "#while i < len(data)-1:\n",
    "fd = draw_food(food[g])    \n",
    "i = drawGenerationMoves(i,food[g],fd)\n",
    "print(data[i],i,\"teste\")\n",
    "i+=1\n",
    "g+=1\n",
    "\n",
    "wn.mainloop()"
   ]
  },
  {
   "cell_type": "code",
   "execution_count": 11,
   "id": "cf2675d1",
   "metadata": {},
   "outputs": [
    {
     "data": {
      "text/plain": [
       "[4, 8]"
      ]
     },
     "execution_count": 11,
     "metadata": {},
     "output_type": "execute_result"
    }
   ],
   "source": [
    "data[836]"
   ]
  },
  {
   "cell_type": "code",
   "execution_count": 12,
   "id": "1911af03",
   "metadata": {},
   "outputs": [],
   "source": [
    "file.close()"
   ]
  },
  {
   "cell_type": "code",
   "execution_count": null,
   "id": "3bb7bb32",
   "metadata": {},
   "outputs": [],
   "source": []
  }
 ],
 "metadata": {
  "kernelspec": {
   "display_name": "Python 3",
   "language": "python",
   "name": "python3"
  },
  "language_info": {
   "codemirror_mode": {
    "name": "ipython",
    "version": 3
   },
   "file_extension": ".py",
   "mimetype": "text/x-python",
   "name": "python",
   "nbconvert_exporter": "python",
   "pygments_lexer": "ipython3",
   "version": "3.8.8"
  }
 },
 "nbformat": 4,
 "nbformat_minor": 5
}
